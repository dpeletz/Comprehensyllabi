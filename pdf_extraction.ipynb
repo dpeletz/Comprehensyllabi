{
 "cells": [
  {
   "cell_type": "code",
   "execution_count": 1,
   "metadata": {},
   "outputs": [],
   "source": [
    "import PyPDF2\n",
    "import pandas as pd\n",
    "import fasttext\n",
    "from io import StringIO\n",
    "import re\n",
    "import spacy\n",
    "from spacy import displacy\n",
    "from collections import Counter\n",
    "import en_core_web_sm\n",
    "from nltk import sent_tokenize\n",
    "from nltk.corpus import stopwords\n",
    "\n"
   ]
  },
  {
   "cell_type": "code",
   "execution_count": null,
   "metadata": {},
   "outputs": [],
   "source": [
    "def get_grading_policy(input_df):\n",
    "    grading_df = input_df.loc[input_df['has_grading_info'] == 1]\n",
    "\n",
    "    f_index = grading_df.head(1).index[0]\n",
    "    l_index = grading_df.tail(1).index[0]\n",
    "        \n",
    "    num_categories = len(grading_df)   \n",
    "    percentages = []\n",
    "    descriptions = []\n",
    "    \n",
    "    values = string.split('%', num_categories)  \n",
    "    \n",
    "    for i in range(num_categories):\n",
    "        percent_value = values[i][-2:] + \"%\"\n",
    "        if i != num_categories - 1: \n",
    "\n",
    "            description = values[i+1][:-3]\n",
    "        else: \n",
    "            description = values[i+1]\n",
    "        \n",
    "        percentages.append(percentages)\n",
    "        descriptions.append(description)\n",
    "\n",
    "#         print(percent_value)\n",
    "#         print(description)\n",
    "    \n",
    "    return_df = pd.DataFrame()\n",
    "    return_df['percentage'] = percentages\n",
    "    return_df['description'] = descriptions\n",
    "    \n",
    "    return return_df\n",
    "    "
   ]
  },
  {
   "cell_type": "code",
   "execution_count": null,
   "metadata": {},
   "outputs": [],
   "source": []
  }
 ],
 "metadata": {
  "kernelspec": {
   "display_name": "Python 3",
   "language": "python",
   "name": "python3"
  },
  "language_info": {
   "codemirror_mode": {
    "name": "ipython",
    "version": 3
   },
   "file_extension": ".py",
   "mimetype": "text/x-python",
   "name": "python",
   "nbconvert_exporter": "python",
   "pygments_lexer": "ipython3",
   "version": "3.6.5"
  }
 },
 "nbformat": 4,
 "nbformat_minor": 2
}
