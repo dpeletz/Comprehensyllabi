{
 "cells": [
  {
   "cell_type": "code",
   "execution_count": 1,
   "metadata": {},
   "outputs": [],
   "source": [
    "import PyPDF2\n",
    "import pandas as pd\n",
    "import fasttext\n",
    "from io import StringIO\n",
    "import re\n",
    "import spacy\n",
    "from spacy import displacy\n",
    "from collections import Counter\n",
    "import en_core_web_sm\n",
    "from nltk import sent_tokenize\n",
    "from nltk.corpus import stopwords"
   ]
  },
  {
   "cell_type": "code",
   "execution_count": 2,
   "metadata": {},
   "outputs": [],
   "source": [
    "nlp = en_core_web_sm.load()\n",
    "\n",
    "pdf_file_reader = PyPDF2.PdfFileReader\n",
    "\n",
    "file_path = \"/Users/davidmpeletz/Desktop/islam.pdf\"\n",
    "\n",
    "# file_path = \"/Users/davidmpeletz/Desktop/cso.pdf\"\n",
    "\n",
    "input1 = pdf_file_reader(file_path)\n",
    "\n",
    "def get_all_content(input_pdf):\n",
    "\n",
    "    if input_pdf.getNumPages() > 0:\n",
    "\n",
    "        text_content = []\n",
    "        str_content = \"\"\n",
    "        stop_words = set(stopwords.words('english'))\n",
    "\n",
    "        for i in range(input_pdf.getNumPages()):\n",
    "            sentences = sent_tokenize(input_pdf.getPage(i).extractText())\n",
    "            str_content += \"\".join(sentences)\n",
    "            line_list = input_pdf.getPage(i).extractText().split('\\n')\n",
    "            words = re.split(r'\\W+', input_pdf.getPage(i).extractText())\n",
    "            new_str_content = [w for w in words if not w in stop_words]\n",
    "            text_content.extend(words)\n",
    "            doc = nlp(str_content)\n",
    "#             print(str_content)\n",
    "            \n",
    "        return str_content\n",
    "\n",
    "    else:\n",
    "        raise Exception(\"The syllabus PDF must contain at least 1 page.\")"
   ]
  },
  {
   "cell_type": "code",
   "execution_count": 3,
   "metadata": {
    "scrolled": true
   },
   "outputs": [
    {
     "data": {
      "text/plain": [
       "' Reli 100.Introduction to Islam:\\n Formation and Expansion\\n             Fall 2018\\n                       Professor James W. Laine\\n OM 02\\n, MWF 12:00\\n-1:00\\n             Old Main 103, x6789\\n; laine@macalester.edu\\n      Description:\\n This will be an introductory course on Islam.We will study a variety of Islamic \\ntraditions (ShariÕah law, Sufism, ShiÕi piety, kingship) \\nin the classical period and early \\nmodern world, with some attention given to the legacies of these tradit\\nions in the \\ncontemporary world.We will pay close attention to the quest for unity and a singular \\nIslam in the face of the great variety of Muslim practices and perspectives in the world \\npast and present.You should do the appropriate reading in advance of\\n class.We will discuss \\nreadings and sketch out critical issues for the topic at hand, both in terms of the subject \\nmatter and debates about interpretation.In these sessions we will determine together the \\nsorts of questions that will appear on the \\nfinal e\\nxam\\n.In early October, you will settle on a topic \\nfor your review essay (due 11/5\\n).These essays can be on any topic in Islamics, and will involve reviewing critical literature \\n(3-4 books) on that topic.See \\nReligious Studies Review\\n for models of the colle\\nctive book \\nreview.You have a wide choice of topics (see p. 4).Books for purchase:\\n  Carl W. Ernst.Following Muhammad.University of North Carolina, 2003\\n The Islamic World.Eds.William H. McNeill and Marilyn R. Waldman.Éother\\n          The \\nUniversity of Chic\\nago Press.Any edition.readings \\n Amin Maalouf.Leo Africanus\\n.Trans.Sluglett.New Amsterdam.1992\\n     on Moodle\\n Alex Haley and Malcolm X.Autobiography of Malcolm X\\n.any edition\\n  Evaluation\\n 35% revi\\new essay (\\ntopic due Oct 5; review \\ndue Nov 5\\n)  35% final exam\\n 10% class participation\\n 10% class presentation\\n 10% review of \\nAutobiography of Malcolm X\\n (due Sept. 10)\\n  Accommodations are available for students with documented\\n disabilities.Contact \\n disabilityservices@macalester.edu\\n to make an appointment.Students are encouraged to address\\n any learning needs or accommodations with me as \\nsoon as possible.Additional information :\\n https://www.ma\\ncalester.edu/disabilityservices/information\\n-for\\n-students/ Schedule\\n  Introductions\\n (9/5\\n-9/12\\n)  What is Ò\\nIslam/\\n islam\\nÓ?Who is a ÒMuslim/ \\nmuslim\\nÓ?Malcolm X\\n  Read:\\n Autobiography of Malcolm X\\n, cc 10\\n-19             Ernst, xiii\\n-69  Visiting Lecturer: \\nProfessor Bill Hart 9/10\\n  Pre\\n-Islamic World\\n (9/14\\n-9/21\\n) Byzan\\ntines vs. Persians\\n  Pre\\n-Islamic Arabia\\n  Abyssinia, Yemen\\n  Read:\\n F. Donner, \\nMuhammad and the Believers\\n             G. Fowden, \\nEmpire to Commonwealth:\\n Consequences of Monotheism  \\n                                          in Late Antiquity\\n  The Prophet Muhammad and his times\\n (9/24\\n-26)                          NO C\\nLASS\\n 9/28\\n  Read:\\n Ernst, 71\\n-92   The QurÕan\\n (10/1\\n-10/5)\\n   Read:\\n Ernst, \\n93-105             The Islamic World\\n, 27-67  Topics for Review Essays\\n due 10/5\\n  The Early Caliphate and the Origins of ShiÕism\\n (10/8\\n-10/10\\n)         NO CLASS \\n10/12\\n  Read:\\n Ernst, 108\\n-162           M.G.S.Hodgson, \\nThe Venture of Islam\\n, I:187\\n-279  ShariÕah, Fiqh\\n (10/15\\n-17)               Read\\n: Islamic World, \\n135-142            Kecia Ali, \\nSexual Ethics and Islam\\n, introduction\\n            Hodgson, I: 315\\n-358  Sexual Ethics\\n (10/19\\n-22)           Read: Kecia Ali, tbd.Visiting Lecturer: Professor Susanna Drake\\n  Sufism\\n (10/24-29)   FALL BREAK 10/26)\\n  Al Ghazali and Rumi\\n  Read: Ernst, \\n164-197                Islamic World\\n, 206-247  Review: Styles of Muslim Piety\\n (10/31-11/2\\n) Student Reviews Due\\n; class presentations \\n(11/5\\n-11/9)\\n  Read: Begin \\nLeo Africanus\\n   The Islamic World,  1000\\n-1500 C.E.(11/12\\n-16)  Read:  Finish \\nLeo Africanus\\n    ***Thanksgiving \\nWeek  \\n(NO classes 11/19\\n-23)***    The Islamic World, 1500\\n-1700 C.E.(11/26\\n-11/30)\\n  Ottomans, Safavids, Mughals\\n  Read: Islamic World, 309\\n-391    Reflections on the Legacies of \\nthe \\nClassical Islamic World \\n(12/3\\n-12/7)\\n  Read: Ernst, 200\\n-213  Review and Final Exam\\n in class\\n (12/10\\n-12/12\\n)           Possible Review Essay Topics:\\n  Saladin\\n RabiÕa\\n Rumi and Persian Sufi poets\\n Al Hallaj\\n ÒHagarismÓ (\\nP. \\nCrone)\\n Pre\\n-Islamic Arabia: pagans, poets, Christians, Jews \\n Mughal \\nemperors: Akbar to Aurangzeb\\n      Ottoman millets (policy toward Christians and Jews)\\n Muslim philosophers and the Greek tradition (Platonists, Aristotelians)\\n                                                            The Fatimids and the Druze\\n        Shari\\nÕah Law\\n The ProphetÕs Wives\\n The QurÕan\\n BaghdadÕs Golden Age\\n Jerusalem\\n Islamic Spain\\n Islamic Concept of the ÔPeople of the BookÕ\\n Persian kingship\\n Music\\n Sufi Orders\\n Conversion to Islam (\\nR. Bulliet)\\n Ibn Arabi, Ibn Khaldun, Ibn Battuta, al Khwarizmi,  \\net al.'"
      ]
     },
     "execution_count": 3,
     "metadata": {},
     "output_type": "execute_result"
    }
   ],
   "source": [
    "get_all_content(input1)"
   ]
  },
  {
   "cell_type": "code",
   "execution_count": 8,
   "metadata": {},
   "outputs": [],
   "source": [
    "def contains_important_date(line):\n",
    "    line = str(line).lower()\n",
    "    doc = nlp(line)\n",
    "    \n",
    "    for ent in doc.ents:\n",
    "        if('DATE' in ent.label_ or \n",
    "           'CARDINAL' in ent.label_ or \n",
    "           'TIME' in ent.label_):\n",
    "            return 1\n",
    "    return 0\n",
    "\n",
    "def contains_grading_info(line):\n",
    "    line = str(line).lower()\n",
    "    doc = nlp(line)\n",
    "    \n",
    "    for ent in doc.ents:\n",
    "        if(ent.label_ == 'PERCENT'):\n",
    "            return 1\n",
    "        \n",
    "    return 0\n",
    "\n",
    "\n",
    "def contains_email(line):\n",
    "    line = str(line).lower()\n",
    "    email_match = re.findall(r'[\\w\\.-]+@[\\w\\.-]+', line)\n",
    "    if len(email_match) > 0:\n",
    "        return 1\n",
    "    return 0"
   ]
  },
  {
   "cell_type": "markdown",
   "metadata": {},
   "source": []
  },
  {
   "cell_type": "code",
   "execution_count": 9,
   "metadata": {},
   "outputs": [],
   "source": [
    "def contains_useful_info(line):\n",
    "    useful_info = [\"quiz\", \"test\", \"exam\", \"final\", \"assessment\", \"due\", \n",
    "                   \"office hours\", \"room\", \"homework\", \"problem set\", \"essay\", \n",
    "                   \"paper\", \"reflection\", \"analysis\", \"project\", \"presentation\", \n",
    "                   \"percent\", \"%\", \"evaluation\", \"assessment\", \"grading\", \n",
    "                   \"grade\", \"policy\", \"report\", \"debate\"]\n",
    "    \n",
    "    line = str(line).lower()\n",
    "        \n",
    "    for i in useful_info: \n",
    "        if i in line: \n",
    "            return 1\n",
    "        \n",
    "    return 0"
   ]
  },
  {
   "cell_type": "code",
   "execution_count": 10,
   "metadata": {},
   "outputs": [],
   "source": [
    "def get_grading_policy(input_df):\n",
    "    grading_df = input_df.loc[input_df['has_grading_info'] == 1]\n",
    "\n",
    "    f_index = grading_df.head(1).index[0]\n",
    "    l_index = grading_df.tail(1).index[0]\n",
    "        \n",
    "    num_categories = len(grading_df)   \n",
    "    percentages = []\n",
    "    descriptions = []\n",
    "    \n",
    "    string = \"\"\n",
    "    for i in range(f_index, l_index + 2):\n",
    "        string += line_df['line'][i]  \n",
    "\n",
    "    values = string.split('%', num_categories)  \n",
    "\n",
    "    for j in range(num_categories):\n",
    "        percent_value = values[j][-2:] + \"%\"\n",
    "        if j != num_categories - 1: \n",
    "            description = values[j+1][:-3]\n",
    "        else: \n",
    "            description = values[j+1]\n",
    "\n",
    "        percentages.append(percent_value)\n",
    "        descriptions.append(description)\n",
    "\n",
    "        return_df = pd.DataFrame()\n",
    "        return_df['percentage'] = percentages\n",
    "        return_df['description'] = descriptions\n",
    "        \n",
    "    return return_df\n",
    "    \n",
    "def get_email(input_df):\n",
    "    email_frame = input_df.loc[input_df['has_email'] == 1]\n",
    "    index = (email_frame.head(1).index[0])\n",
    "    \n",
    "    for i in (email_frame['line'][index].split()):\n",
    "        email_match = re.findall(r'[\\w\\.-]+@[\\w\\.-]+', i)\n",
    "        if len(email_match) > 0:\n",
    "            return email_match[0]"
   ]
  },
  {
   "cell_type": "code",
   "execution_count": 11,
   "metadata": {},
   "outputs": [],
   "source": [
    "return_bow = get_all_content(input1)\n",
    "\n",
    "line_df = pd.DataFrame()\n",
    "line_df['line'] = return_bow.split('\\n')"
   ]
  },
  {
   "cell_type": "code",
   "execution_count": 12,
   "metadata": {},
   "outputs": [],
   "source": [
    "line_df['has_useful_info'] = line_df['line'].apply(contains_useful_info)\n",
    "line_df['has_email'] = line_df['line'].apply(contains_email)\n",
    "line_df['has_grading_info'] = line_df['line'].apply(contains_grading_info)\n",
    "line_df['has_date'] = line_df['line'].apply(contains_important_date)"
   ]
  },
  {
   "cell_type": "code",
   "execution_count": 13,
   "metadata": {
    "scrolled": true
   },
   "outputs": [
    {
     "data": {
      "text/plain": [
       "43"
      ]
     },
     "execution_count": 13,
     "metadata": {},
     "output_type": "execute_result"
    }
   ],
   "source": [
    "len(line_df.loc[line_df['has_date']==1])"
   ]
  },
  {
   "cell_type": "code",
   "execution_count": null,
   "metadata": {},
   "outputs": [],
   "source": [
    "def contains_office_hours(line):\n",
    "    \n",
    "    doc = nlp(line)\n",
    "\n",
    "    for token in doc:\n",
    "            \n",
    "        if token.pos_ == 'NUM' and ':' in line:\n",
    "            if 'MWF' in line: \n",
    "                return 1\n",
    "\n",
    "\n"
   ]
  },
  {
   "cell_type": "code",
   "execution_count": null,
   "metadata": {},
   "outputs": [],
   "source": [
    "line_df['has_office_hours'] = line_df['line'].apply(contains_office_hours)"
   ]
  },
  {
   "cell_type": "code",
   "execution_count": null,
   "metadata": {},
   "outputs": [],
   "source": [
    "def get_office_hours(input_df):\n",
    "    office_hour_df = input_df.loc[input_df['has_office_hours'] == 1]\n",
    "    index = office_hour_df.head(1).index[0]\n",
    "    office_hour_df['has_office_hours'][index+1] = 1\n",
    "    string = \"\"\n",
    "    \n",
    "    for j in range(index, index+2):\n",
    "        string += input_df['line'][j]\n",
    "    \n",
    "    split_string = string.split(', ')[1]\n",
    "    \n",
    "    return split_string\n"
   ]
  },
  {
   "cell_type": "code",
   "execution_count": null,
   "metadata": {},
   "outputs": [],
   "source": [
    "get_office_hours(line_df)"
   ]
  },
  {
   "cell_type": "code",
   "execution_count": null,
   "metadata": {},
   "outputs": [],
   "source": [
    "get_grading_policy(line_df)"
   ]
  },
  {
   "cell_type": "code",
   "execution_count": null,
   "metadata": {},
   "outputs": [],
   "source": []
  }
 ],
 "metadata": {
  "kernelspec": {
   "display_name": "Python 3",
   "language": "python",
   "name": "python3"
  },
  "language_info": {
   "codemirror_mode": {
    "name": "ipython",
    "version": 3
   },
   "file_extension": ".py",
   "mimetype": "text/x-python",
   "name": "python",
   "nbconvert_exporter": "python",
   "pygments_lexer": "ipython3",
   "version": "3.6.5"
  }
 },
 "nbformat": 4,
 "nbformat_minor": 2
}
