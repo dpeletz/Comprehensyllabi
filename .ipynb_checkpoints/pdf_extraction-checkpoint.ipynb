{
 "cells": [
  {
   "cell_type": "code",
   "execution_count": 3,
   "metadata": {},
   "outputs": [],
   "source": [
    "import PyPDF2\n",
    "import pandas as pd\n",
    "import fasttext\n",
    "from io import StringIO\n",
    "import re\n",
    "import spacy\n",
    "from spacy import displacy\n",
    "from collections import Counter\n",
    "import en_core_web_sm\n",
    "from nltk import sent_tokenize\n",
    "from nltk.corpus import stopwords"
   ]
  },
  {
   "cell_type": "code",
   "execution_count": 6,
   "metadata": {},
   "outputs": [],
   "source": [
    "def contains_important_date(line):\n",
    "    line = str(line).lower()\n",
    "    doc = nlp(line)\n",
    "    \n",
    "    for ent in doc.ents:\n",
    "        if('DATE' in ent.label_ or \n",
    "           'CARDINAL' in ent.label_):\n",
    "            return 1\n",
    "        \n",
    "    return 0\n",
    "\n",
    "def contains_grading_info(line):\n",
    "    line = str(line).lower()\n",
    "    doc = nlp(line)\n",
    "    \n",
    "    for ent in doc.ents:\n",
    "        if(ent.label_ == 'PERCENT'):\n",
    "            return 1\n",
    "        \n",
    "    return 0\n",
    "\n",
    "\n",
    "def contains_email(line):\n",
    "    line = str(line).lower()\n",
    "    email_match = re.findall(r'[\\w\\.-]+@[\\w\\.-]+', line)\n",
    "    if len(email_match) > 0:\n",
    "        return 1\n",
    "    return 0"
   ]
  },
  {
   "cell_type": "code",
   "execution_count": 7,
   "metadata": {},
   "outputs": [],
   "source": [
    "def get_grading_policy(input_df):\n",
    "    grading_df = input_df.loc[input_df['has_grading_info'] == 1]\n",
    "\n",
    "    f_index = grading_df.head(1).index[0]\n",
    "    l_index = grading_df.tail(1).index[0]\n",
    "        \n",
    "    num_categories = len(grading_df)   \n",
    "    percentages = []\n",
    "    descriptions = []\n",
    "    \n",
    "    string = \"\"\n",
    "    for i in range(f_index, l_index + 2):\n",
    "        string += line_df['line'][i]  \n",
    "\n",
    "    values = string.split('%', num_categories)  \n",
    "\n",
    "    for j in range(num_categories):\n",
    "        percent_value = values[j][-2:] + \"%\"\n",
    "        if j != num_categories - 1: \n",
    "            description = values[j+1][:-3]\n",
    "        else: \n",
    "            description = values[j+1]\n",
    "\n",
    "        percentages.append(percent_value)\n",
    "        descriptions.append(description)\n",
    "\n",
    "        return_df = pd.DataFrame()\n",
    "        return_df['percentage'] = percentages\n",
    "        return_df['description'] = descriptions\n",
    "        \n",
    "    return return_df\n",
    "    \n",
    "def get_email(input_df):\n",
    "    email_frame = input_df.loc[input_df['has_email'] == 1]\n",
    "    index = (email_frame.head(1).index[0])\n",
    "    \n",
    "    for i in (email_frame['line'][index].split()):\n",
    "        email_match = re.findall(r'[\\w\\.-]+@[\\w\\.-]+', i)\n",
    "        if len(email_match) > 0:\n",
    "            return email_match[0]"
   ]
  },
  {
   "cell_type": "code",
   "execution_count": null,
   "metadata": {},
   "outputs": [],
   "source": []
  }
 ],
 "metadata": {
  "kernelspec": {
   "display_name": "Python 3",
   "language": "python",
   "name": "python3"
  },
  "language_info": {
   "codemirror_mode": {
    "name": "ipython",
    "version": 3
   },
   "file_extension": ".py",
   "mimetype": "text/x-python",
   "name": "python",
   "nbconvert_exporter": "python",
   "pygments_lexer": "ipython3",
   "version": "3.6.5"
  }
 },
 "nbformat": 4,
 "nbformat_minor": 2
}
